# Demonstration of GitHub Classroom Q & A

## &#x1f468;&#x200d;&#x1f3eb; Purpose
GitHub Classroom not only allows us to automatically test programming/code. Other types of questions are supported too.
1. &#x1f3b2; Multiple-Choice Questions (one or more answers, separated by spaces or commas)
2. &#x1fa99; True/False Questions (write True/False)
3. &#x1F5A9; Numerical answers requiring some calculation (write the numerical answer in the requested units; significant figures are not checked)
4. &#x1f9ee; Numerical answers requiring no calculation (usually just counting) (write the answer as a number)
4. &#x1f500; Matching Questions (write pairs sequentially).

The way we do it, it is important that you *always* put your answer in the indicated position and never use the bold-faced word "Answer" elsewhere. Other than that restriction, the rest of your notebook is yours to play with.

-----

## &#x1f4dc; Instructions
The next few questions demonstrate the workflow. For each question type, you are first given an example; then you need to do another question of the same type on your own.
- You can upload files to show your mathematical work; you can also type mathematics using Markdown.
- You can use the notebook as a calculator for numerical problems; but you can also just type in your answer computed offline.
- You may find these [sheets containing reference data and mathematical formulas/identities](https://github.com/QC-Edu/IntroQM2022/blob/master/documents/ReferenceConstantsConversionsMath.pdf) useful.