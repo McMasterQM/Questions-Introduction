{
 "cells": [
  {
   "cell_type": "markdown",
   "metadata": {},
   "source": [
    "# Introduction to Quantum Mechanics\n",
    "\n",
    "## &#x1f468;&#x200d;&#x1f3eb; Purpose\n",
    "This contains introductory questions about quantum mechanics. Instructions about how to answer the various supported question types can be found in the example assignment.\n",
    "1. &#x1f3b2; Multiple-Choice Questions (one or more answers, separated by spaces or commas)\n",
    "2. &#x1fa99; True/False Questions (write True/False)\n",
    "3. &#x1F5A9; Numerical answers requiring some calculation (write the numerical answer in the requested units; significant figures are not checked)\n",
    "4. &#x1f9ee; Numerical answers requiring no calculation (usually just counting) (write the answer as a number)\n",
    "4. &#x1f500; Matching Questions (write pairs sequentially).\n",
    "\n",
    "> **Notes:**\n",
    ">- You can upload files to show your mathematical work; you can also type mathematics using Markdown.\n",
    ">- You can use the notebook as a calculator for numerical problems; but you can also just type in your answer computed offline.\n",
    ">- You may find these [sheets containing reference data and mathematical formulas/identities](https://github.com/QC-Edu/IntroQM2022/blob/master/documents/ReferenceConstantsConversionsMath.pdf) useful.\n",
    "\n",
    "-----\n",
    "\n",
    "## &#x1f4dc; Instructions\n",
    "Answer the following 10 questions. Remember to *always* put your answer in the indicated position and never use the bold-faced word \"Answer\" elsewhere. Other than that restriction, the rest of your notebook is yours to play with.\n"
   ]
  },
  {
   "cell_type": "markdown",
   "metadata": {},
   "source": [
    "-------\n",
    "**1. &#x1F5A9;** I have a high-powered green laser pointer (532 nm wavelength, 100 mW power) that I use for astronomical starspotting. **If I shine this laser pointer on you, how much momentum, per second, will be transferred to you? Report your answer in SI units of kg m/s.** \n",
    "\n",
    "**Answer:** 3.336e-10"
   ]
  },
  {
   "cell_type": "code",
   "execution_count": 7,
   "metadata": {},
   "outputs": [
    {
     "name": "stdout",
     "output_type": "stream",
     "text": [
      "The momentum transfered per second is 3.336e-10 kg m/s\n"
     ]
    }
   ],
   "source": [
    "import numpy as np\n",
    "import scipy\n",
    "from scipy import constants \n",
    "\n",
    "# The momentum and energy of a single green photon is \n",
    "p_greenphoton = constants.h/532e-9  #in kg m/s\n",
    "E_greenphoton = constants.h*constants.c/532e-9 #in Joules\n",
    "\n",
    "# Based on the power, which is 100 mW = .1 J/s, we can deduce\n",
    "# power = (energy of a single photon)(number of photons per second)\n",
    "n_greenphotons_persecond = .1/E_greenphoton\n",
    "p_greenlaser = p_greenphoton * n_greenphotons_persecond\n",
    "\n",
    "print(\"The momentum transfered per second is {0:.3e} kg m/s\".format(p_greenlaser))"
   ]
  },
  {
   "cell_type": "markdown",
   "metadata": {},
   "source": [
    "-------\n",
    "**2. &#x1F5A9;** The radioactive isotope Cobalt-60 is used in nuclear medicine to treat cancer. The energy emitted by Cobalt-60 is 1.29 x 10^11 J/mol. **What is the wavelength of the emitted $\\gamma$ rays in meters?**\n",
    "\n",
    "**Answer:** 9.273e-13"
   ]
  },
  {
   "cell_type": "code",
   "execution_count": 8,
   "metadata": {},
   "outputs": [
    {
     "name": "stdout",
     "output_type": "stream",
     "text": [
      "The wavelength emitted by the radioactive isotope Co60 is 9.273e-13 m\n"
     ]
    }
   ],
   "source": [
    "# The energy is given in Joules per mole, so let's first compute the \n",
    "# energy of a single photon by dividing by Avogadro's number:\n",
    "E_photonCo60 = 1.29e11/constants.N_A\n",
    "\n",
    "# The wavelength is then determined form E = h*frequency = hc/wavelength\n",
    "wlength_C60 = constants.h * constants.c/E_photonCo60\n",
    "\n",
    "print(\"The wavelength emitted by the radioactive isotope Co60 is {0:.3e} m\".format(wlength_C60))"
   ]
  },
  {
   "cell_type": "markdown",
   "metadata": {},
   "source": [
    "-----\n",
    "**3. &#x1fa99; The Davisson-Germer experiment was among the first explicit verifications of the wave-like nature of electrons, and was foundational for modern electron diffraction methods. (True/False)**\n",
    "\n",
    "**Answer:** True"
   ]
  },
  {
   "cell_type": "markdown",
   "metadata": {},
   "source": [
    "------\n",
    "**4. &#x1f3b2; The Davisson-Germer experiment demonstrated that if you shine a beam of electrons on a metal crystal, the result is _____.**\n",
    "\n",
    "A. the electrons are absorbed at “critical energies” similar to the optical (light) absorption spectrum. \n",
    "\n",
    "B. the electrons scatter according to the Bragg law for X-ray scattering. \n",
    "\n",
    "C. the electrons go right through the metal. \n",
    "\n",
    "D. the metal gets very hot and becomes a dull red color (stimulated blackbody emission of radiation). \n",
    "\n",
    "**Answer:** B"
   ]
  },
  {
   "cell_type": "markdown",
   "metadata": {},
   "source": [
    "------\n",
    "**5. &#x1f3b2; Which one of the following experimental results is most often cited as examples of the wave-likeness of particles like electrons?**\n",
    "\n",
    "A. blackbody radiation  \n",
    "\n",
    "B. discrete emission lines in the hydrogen spectrum  \n",
    "\n",
    "C. photoelectric effect  \n",
    "\n",
    "D. Compton scattering of light by a particle  \n",
    "\n",
    "E. Electron scattering from a crystal\n",
    "\n",
    "**Answer:** E"
   ]
  },
  {
   "cell_type": "markdown",
   "metadata": {},
   "source": [
    "B is a reasonable answer from the viewpoint of the Bohr model of the Hydrogen atom, but is less obvious than E (electron scattering). So the \"best single answer\" would be E. "
   ]
  },
  {
   "cell_type": "markdown",
   "metadata": {},
   "source": [
    "-----\n",
    "**6. &#x1f3b2; Which three of the following experimental results are often cited as examples of the particle-likeness of radiation (light)?**\n",
    "\n",
    "A. blackbody radiation \n",
    "\n",
    "B. discrete emission lines in the hydrogen spectrum\n",
    "\n",
    "C. photoelectric effect\n",
    " \n",
    "D. Compton scattering of light by a particle\n",
    "\n",
    "E. Electron scattering from a crystal\n",
    "\n",
    "**Answer:** A, C, D"
   ]
  },
  {
   "cell_type": "markdown",
   "metadata": {},
   "source": [
    "-----\n",
    "**7. &#x1F5A9; What is the momentum of a $\\gamma$-ray photon with a wavelength of $10^{-13}$ m in SI units of ${\\frac{\\text{m} \\cdot \\text{kg}}{\\text{s}}}$?**\n",
    "\n",
    "**Answer:** 6.626e-21"
   ]
  },
  {
   "cell_type": "code",
   "execution_count": 9,
   "metadata": {},
   "outputs": [
    {
     "name": "stdout",
     "output_type": "stream",
     "text": [
      "the momentum of a photon with a wavelength of 1e-13 m is 6.626e-21 m kg/s\n"
     ]
    }
   ],
   "source": [
    "p_gamma = constants.h/1e-13\n",
    "print(\"the momentum of a photon with a wavelength of 1e-13 m is {0:.3e} m kg/s\".format(p_gamma))"
   ]
  },
  {
   "cell_type": "markdown",
   "metadata": {},
   "source": [
    "The momentum of a photon can be computed from the De Broglie relation (here, better credited to Compton):\n",
    "\n",
    "$$ p = \\frac{h}{\\lambda} $$"
   ]
  },
  {
   "cell_type": "markdown",
   "metadata": {},
   "source": [
    "-------\n",
    "**8. &#x1F5A9;** Rydberg's law says that the wavenumber for the absorptions for a one-electron atom/ion with atomic number Z is given by the expression\n",
    "\n",
    "$$ \\tilde{\\nu} = \\left( 1.0974 \\cdot 10^7 m^{-1}\\right) Z^2 \n",
    "\\left( \\frac{1}{n_1^2} - \\frac{1}{n_2^2} \\right) $$\n",
    "\n",
    "where $1 < n_1 < n_2 < \\inf$. Suppose you are given the Hydrogen atom in its ground state, $n_1=1$. **What is the lowest absorption frequency (in Hz)?**\n",
    "\n",
    "**Answer:** 2.467e+15"
   ]
  },
  {
   "cell_type": "code",
   "execution_count": 10,
   "metadata": {},
   "outputs": [
    {
     "name": "stdout",
     "output_type": "stream",
     "text": [
      "the lowest absorption frequency for the hydrogen atom is 2.467e+15 Hz\n"
     ]
    }
   ],
   "source": [
    "#From the Rydberg formula\n",
    "wavenumber = 1.0974e7 * 1 * (1 - 1./4) \n",
    "\n",
    "# frequency is speed of light times wavenumber, where wavenumber = 1/wavelength\n",
    "lowest_frequency = constants.c*wavenumber\n",
    "\n",
    "print(\"the lowest absorption frequency for the hydrogen atom is {0:.3e} Hz\".format(lowest_frequency))\n",
    "### END SOLUTION"
   ]
  },
  {
   "cell_type": "markdown",
   "metadata": {},
   "source": [
    "The lowest absorption frequency will correspond to exciting from the ground state to the lowest excited state, so $n_2 = 2$. Using this, we can compute the wavelength from:\n",
    "\n",
    "$$\\tilde{\\nu} = (1.0974\\cdot 10^7)(1^2)\\left(\\frac{1}{1^2} - \\frac{1}{2^2} \\right) $$\n",
    "\n",
    "and then convert the wavelength to frequency using\n",
    "\n",
    "$$ \\nu = c\\tilde{\\nu} $$"
   ]
  },
  {
   "cell_type": "markdown",
   "metadata": {},
   "source": [
    "-------\n",
    "**9. &#x1F5A9;** During departmental baseball games, your instructor insists that the only reason he strikes out is because of the De Broglie wavelength of the baseball means that even though he swings in the correct location, he still misses. Suppose that the opposing major-league-quality hurler throws the baseball (mass = 145 g) at 100 miles-per-hour (45 m/s). **What is the De Broglie wavelength of the baseball in meters?**\n",
    "\n",
    "**Answer:** 1.015e-34"
   ]
  },
  {
   "cell_type": "code",
   "execution_count": 11,
   "metadata": {},
   "outputs": [
    {
     "name": "stdout",
     "output_type": "stream",
     "text": [
      "The wavelength of the baseball is 1.015e-34 m!\n"
     ]
    }
   ],
   "source": [
    "wl_baseball = constants.h/(.145*45)\n",
    "\n",
    "print(\"The wavelength of the baseball is {0:.3e} m!\".format(wl_baseball))"
   ]
  },
  {
   "cell_type": "markdown",
   "metadata": {},
   "source": [
    "-----\n",
    "**10. &#x1F5A9; What is the energy (in Joules) of a photon with angular wavenumber $k=10^7 \\text{m}^{-1}$?**\n",
    "\n",
    "**Answer:** 3.162e-19"
   ]
  },
  {
   "cell_type": "code",
   "execution_count": 12,
   "metadata": {},
   "outputs": [
    {
     "name": "stdout",
     "output_type": "stream",
     "text": [
      "The momentum of a photon with an angular wavenumber of 1e7 1/m is 1.055e-27 m kg/s.\n",
      "The energy of a photon with an angular wavenumber of 1e7 1/m is 3.162e-19 J.\n"
     ]
    }
   ],
   "source": [
    "p_from_k = constants.hbar * 1e7\n",
    "E_from_k = constants.c * p_from_k\n",
    "\n",
    "print(\"The momentum of a photon with an angular wavenumber of 1e7 1/m is {0:.3e} m kg/s.\".format(p_from_k))\n",
    "print(\"The energy of a photon with an angular wavenumber of 1e7 1/m is {0:.3e} J.\".format(E_from_k))"
   ]
  },
  {
   "cell_type": "markdown",
   "metadata": {},
   "source": []
  }
 ],
 "metadata": {
  "interpreter": {
   "hash": "8867fa4a874d625ac151e80518eaa96dde9c32243951e64c9d5c087633ad9a9a"
  },
  "kernelspec": {
   "display_name": "Python 3.8.5 64-bit",
   "language": "python",
   "name": "python3"
  },
  "language_info": {
   "codemirror_mode": {
    "name": "ipython",
    "version": 3
   },
   "file_extension": ".py",
   "mimetype": "text/x-python",
   "name": "python",
   "nbconvert_exporter": "python",
   "pygments_lexer": "ipython3",
   "version": "3.8.5"
  },
  "orig_nbformat": 4
 },
 "nbformat": 4,
 "nbformat_minor": 2
}
